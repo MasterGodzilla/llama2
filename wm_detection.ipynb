{
 "cells": [
  {
   "cell_type": "code",
   "execution_count": 1,
   "metadata": {},
   "outputs": [],
   "source": [
    "from llama import Llama"
   ]
  },
  {
   "cell_type": "code",
   "execution_count": 1,
   "metadata": {},
   "outputs": [],
   "source": [
    "from llama.tokenizer import Tokenizer\n",
    "from llama.watermark import AaronsonWatermarker"
   ]
  },
  {
   "cell_type": "code",
   "execution_count": 2,
   "metadata": {},
   "outputs": [],
   "source": [
    "tokenizer_path='tokenizer.model'\n",
    "hashing_schema='lefthash'\n",
    "tokenizer = Tokenizer(model_path=tokenizer_path)"
   ]
  },
  {
   "cell_type": "code",
   "execution_count": 3,
   "metadata": {},
   "outputs": [],
   "source": [
    "watermarker = AaronsonWatermarker(\n",
    "    vocab_size = tokenizer.n_words,\n",
    "    tokenizer = tokenizer,\n",
    "    hashing_schema = hashing_schema,\n",
    ")"
   ]
  },
  {
   "cell_type": "code",
   "execution_count": 8,
   "metadata": {},
   "outputs": [],
   "source": [
    "\n",
    "\n"
   ]
  },
  {
   "cell_type": "code",
   "execution_count": 4,
   "metadata": {},
   "outputs": [
    {
     "name": "stdout",
     "output_type": "stream",
     "text": [
      "p-value: 0.41165067345182826 ST (null is 1): 1.0129138346898516 Z-score 0.22330087423324585\n",
      "p-value: 0.07393064739580024 ST (null is 1): 1.3736466725667318 Z-score 1.4471272230148315\n",
      "p-value: 0.5204018808848274 ST (null is 1): 0.9974418640136719 Z-score -0.0511622428894043\n",
      "p-value: 0.01776575970520533 ST (null is 1): 1.0963564319770878 Z-score 2.102248430252075\n",
      "p-value: 0.9775195530907258 ST (null is 1): 0.9091438434452002 Z-score -2.0050201416015625\n",
      "p-value: 0.40017782125593826 ST (null is 1): 1.0477910723005022 Z-score 0.2528868615627289\n",
      "p-value: 0.8589285371284102 ST (null is 1): 0.903802734375 Z-score -1.0755178928375244\n",
      "p-value: 0.8687292820473802 ST (null is 1): 0.9487538996101922 Z-score -1.1204044818878174\n",
      "p-value: 0.00015100573350868007 ST (null is 1): 1.1630781061052062 Z-score 3.6135685443878174\n",
      "p-value: 0.962614997618955 ST (null is 1): 0.8488635605187724 Z-score -1.7818726301193237\n",
      "\n",
      "\n",
      "p-value: 0.7669763538156864 ST (null is 1): 0.9624584410487815 Z-score -0.7289254069328308\n",
      "p-value: 0.5370673979459448 ST (null is 1): 0.9882770114474826 Z-score -0.09304828196763992\n",
      "p-value: 0.5739396461438764 ST (null is 1): 0.9908383134482563 Z-score -0.1864132434129715\n",
      "p-value: 0.0016781117156396963 ST (null is 1): 1.1322332862916031 Z-score 2.933075428009033\n",
      "p-value: 0.3462752334932856 ST (null is 1): 1.0208392673068576 Z-score 0.39539626240730286\n",
      "p-value: 0.7571840241083139 ST (null is 1): 0.8804186652688419 Z-score -0.6972730159759521\n",
      "p-value: 0.6892870972785305 ST (null is 1): 0.9451299596715856 Z-score -0.4938306212425232\n",
      "p-value: 0.36059958650391954 ST (null is 1): 1.0168599401201521 Z-score 0.3568565845489502\n",
      "p-value: 0.7475427116259296 ST (null is 1): 0.9699087978137729 Z-score -0.6667770147323608\n",
      "p-value: 0.9818181929995885 ST (null is 1): 0.8065170548919939 Z-score -2.0928380489349365\n",
      "\n",
      "\n"
     ]
    }
   ],
   "source": [
    "\n",
    "import json\n",
    "\n",
    "# 指定 JSON 文件路径\n",
    "input_file_path = \"chat_output_aaronson.json\"\n",
    "# 指定 JSON 文件路径\n",
    "input_file_path = \"chat_output_none.json\"\n",
    "\n",
    "\n",
    "import json\n",
    "for input_file_path in [\"chat_output_none.json\",\"chat_output_aaronson.json\"]:\n",
    "    # 打开 JSON 文件并解析数据\n",
    "    with open(input_file_path, \"r\") as input_file:\n",
    "        output_list = json.load(input_file)\n",
    "\n",
    "    # 循环遍历输出列表中的每个字典\n",
    "    for item in output_list[:10]:\n",
    "        output=item['result']['generation']['content']\n",
    "        test = watermarker.detect(output)\n",
    "        print (\"p-value:\",test[0], \"ST (null is 1):\", test[1], \"Z-score\", test[2])\n",
    "    print('\\n')\n",
    "\n",
    "            \n",
    "\n",
    "\n",
    "            "
   ]
  },
  {
   "cell_type": "code",
   "execution_count": 23,
   "metadata": {},
   "outputs": [
    {
     "name": "stdout",
     "output_type": "stream",
     "text": [
      "p-value: 0.41165067345182826 ST (null is 1): 1.0129138346898516 Z-score 0.22330087423324585\n",
      "p-value: 0.07393064739580024 ST (null is 1): 1.3736466725667318 Z-score 1.4471272230148315\n",
      "p-value: 0.5204018808848274 ST (null is 1): 0.9974418640136719 Z-score -0.0511622428894043\n",
      "p-value: 0.01776575970520533 ST (null is 1): 1.0963564319770878 Z-score 2.102248430252075\n",
      "p-value: 0.9775195530907258 ST (null is 1): 0.9091438434452002 Z-score -2.0050201416015625\n",
      "p-value: 0.40017782125593826 ST (null is 1): 1.0477910723005022 Z-score 0.2528868615627289\n",
      "p-value: 0.8589285371284102 ST (null is 1): 0.903802734375 Z-score -1.0755178928375244\n",
      "p-value: 0.8687292820473802 ST (null is 1): 0.9487538996101922 Z-score -1.1204044818878174\n",
      "p-value: 0.00015100573350868007 ST (null is 1): 1.1630781061052062 Z-score 3.6135685443878174\n",
      "p-value: 0.962614997618955 ST (null is 1): 0.8488635605187724 Z-score -1.7818726301193237\n",
      "p-value: 0.7719490439078489 ST (null is 1): 0.951690609715566 Z-score -0.745280921459198\n",
      "p-value: 0.5044653441526998 ST (null is 1): 0.9960426092147827 Z-score -0.01119319163262844\n",
      "p-value: 0.3583221427516239 ST (null is 1): 1.0200710471616972 Z-score 0.3629472553730011\n",
      "p-value: 0.10378631169962471 ST (null is 1): 1.056875069612398 Z-score 1.260268211364746\n",
      "p-value: 0.49858982421586917 ST (null is 1): 1.0005891587999132 Z-score 0.0035347938537597656\n",
      "p-value: 0.06429702629359568 ST (null is 1): 1.0689335575810186 Z-score 1.519669532775879\n",
      "p-value: 0.6995634552705269 ST (null is 1): 0.9763907686998791 Z-score -0.5231453776359558\n",
      "p-value: 0.9938863369919522 ST (null is 1): 0.8814932121259788 Z-score -2.5055148601531982\n",
      "p-value: 0.011737717119609914 ST (null is 1): 1.1026645166917992 Z-score 2.2656073570251465\n",
      "p-value: 0.9406045148010744 ST (null is 1): 0.8843748490888994 Z-score -1.5598684549331665\n",
      "p-value: 0.9704224402144337 ST (null is 1): 0.49566773005894255 Z-score -1.8870387077331543\n",
      "p-value: 0.39715587003170916 ST (null is 1): 1.0118506565566892 Z-score 0.2607157230377197\n",
      "p-value: 0.8883224370970904 ST (null is 1): 0.8621277442345252 Z-score -1.2176549434661865\n",
      "p-value: 0.1521338874135021 ST (null is 1): 1.0510481469425155 Z-score 1.0273243188858032\n",
      "p-value: 0.27910694458768615 ST (null is 1): 1.026450083207111 Z-score 0.5854965448379517\n",
      "p-value: 0.6661626708263705 ST (null is 1): 0.9805845170908423 Z-score -0.429341584444046\n",
      "p-value: 0.7231631094545274 ST (null is 1): 0.8969000614050663 Z-score -0.5922640562057495\n",
      "p-value: 0.67657022037062 ST (null is 1): 0.9792826833900499 Z-score -0.45812928676605225\n",
      "p-value: 0.0700286460191698 ST (null is 1): 1.1446923475999098 Z-score 1.475577712059021\n",
      "p-value: 0.0022901402977749674 ST (null is 1): 1.171278236556227 Z-score 2.8351595401763916\n",
      "p-value: 0.9172655900273223 ST (null is 1): 0.9372174622582607 Z-score -1.3869112730026245\n",
      "p-value: 0.8582746624496816 ST (null is 1): 0.771320949901234 Z-score -1.0725998878479004\n",
      "p-value: 0.18505637953930454 ST (null is 1): 1.0677510288783483 Z-score 0.8962621688842773\n",
      "p-value: 0.044299992097864394 ST (null is 1): 1.0769259705835459 Z-score 1.7028294801712036\n",
      "p-value: 0.08798480039549728 ST (null is 1): 1.061259660564485 Z-score 1.353269338607788\n",
      "p-value: 0.9037179460202003 ST (null is 1): 0.7659686919181578 Z-score -1.3030312061309814\n",
      "p-value: 0.24296945057253916 ST (null is 1): 1.056516546952097 Z-score 0.6967825293540955\n",
      "p-value: 0.7405857241445123 ST (null is 1): 0.9239681031968858 Z-score -0.64515221118927\n",
      "p-value: 0.8335652868208898 ST (null is 1): 0.8896462576729911 Z-score -0.968350350856781\n",
      "p-value: 0.7085790669181724 ST (null is 1): 0.9708494374449824 Z-score -0.549238383769989\n",
      "p-value: 0.47562440964531794 ST (null is 1): 1.0037416608146068 Z-score 0.061138611286878586\n",
      "p-value: 0.02035371999278568 ST (null is 1): 1.2985123979284408 Z-score 2.0464975833892822\n",
      "p-value: 0.39939943978449277 ST (null is 1): 1.011527094616724 Z-score 0.2549018859863281\n",
      "p-value: 0.272705128006128 ST (null is 1): 1.0592909592848558 Z-score 0.6046519875526428\n",
      "p-value: 0.1575912557764707 ST (null is 1): 1.089479718889509 Z-score 1.0044069290161133\n",
      "p-value: 0.8031150896153754 ST (null is 1): 0.9381313123201069 Z-score -0.852800726890564\n",
      "p-value: 0.49372080833285337 ST (null is 1): 1.0007117647822406 Z-score 0.015740249305963516\n",
      "p-value: 0.7153655757045101 ST (null is 1): 0.9743155733873791 Z-score -0.5691286325454712\n",
      "p-value: 0.5560313858430146 ST (null is 1): 0.9847156300264246 Z-score -0.14091482758522034\n",
      "p-value: 0.632180557843838 ST (null is 1): 0.9602094226413302 Z-score -0.3376341760158539\n"
     ]
    }
   ],
   "source": []
  },
  {
   "cell_type": "code",
   "execution_count": null,
   "metadata": {},
   "outputs": [],
   "source": []
  }
 ],
 "metadata": {
  "kernelspec": {
   "display_name": "distil",
   "language": "python",
   "name": "python3"
  },
  "language_info": {
   "codemirror_mode": {
    "name": "ipython",
    "version": 3
   },
   "file_extension": ".py",
   "mimetype": "text/x-python",
   "name": "python",
   "nbconvert_exporter": "python",
   "pygments_lexer": "ipython3",
   "version": "3.9.17"
  },
  "orig_nbformat": 4
 },
 "nbformat": 4,
 "nbformat_minor": 2
}
